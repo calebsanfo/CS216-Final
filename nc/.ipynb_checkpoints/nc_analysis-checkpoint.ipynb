{
 "cells": [
  {
   "cell_type": "code",
   "execution_count": 1,
   "metadata": {},
   "outputs": [],
   "source": [
    "import numpy as np\n",
    "import pandas as pd"
   ]
  },
  {
   "cell_type": "code",
   "execution_count": 2,
   "metadata": {},
   "outputs": [
    {
     "ename": "FileNotFoundError",
     "evalue": "[Errno 2] File b'nc/NC_Drug_Poisoning.csv' does not exist: b'nc/NC_Drug_Poisoning.csv'",
     "output_type": "error",
     "traceback": [
      "\u001b[0;31m---------------------------------------------------------------------------\u001b[0m",
      "\u001b[0;31mFileNotFoundError\u001b[0m                         Traceback (most recent call last)",
      "\u001b[0;32m<ipython-input-2-1df4f893daf2>\u001b[0m in \u001b[0;36m<module>\u001b[0;34m\u001b[0m\n\u001b[0;32m----> 1\u001b[0;31m \u001b[0mdrug\u001b[0m \u001b[0;34m=\u001b[0m \u001b[0mpd\u001b[0m\u001b[0;34m.\u001b[0m\u001b[0mread_csv\u001b[0m\u001b[0;34m(\u001b[0m\u001b[0;34m'nc/NC_Drug_Poisoning.csv'\u001b[0m\u001b[0;34m)\u001b[0m\u001b[0;34m\u001b[0m\u001b[0;34m\u001b[0m\u001b[0m\n\u001b[0m\u001b[1;32m      2\u001b[0m \u001b[0mgdp\u001b[0m \u001b[0;34m=\u001b[0m \u001b[0mpd\u001b[0m\u001b[0;34m.\u001b[0m\u001b[0mread_csv\u001b[0m\u001b[0;34m(\u001b[0m\u001b[0;34m'nc/NC_GDP.csv'\u001b[0m\u001b[0;34m)\u001b[0m\u001b[0;34m\u001b[0m\u001b[0;34m\u001b[0m\u001b[0m\n\u001b[1;32m      3\u001b[0m \u001b[0munemployment\u001b[0m \u001b[0;34m=\u001b[0m \u001b[0mpd\u001b[0m\u001b[0;34m.\u001b[0m\u001b[0mread_csv\u001b[0m\u001b[0;34m(\u001b[0m\u001b[0;34m'nc/NC_Unemployment.csv'\u001b[0m\u001b[0;34m)\u001b[0m\u001b[0;34m\u001b[0m\u001b[0;34m\u001b[0m\u001b[0m\n\u001b[1;32m      4\u001b[0m \u001b[0munemployment\u001b[0m \u001b[0;34m=\u001b[0m \u001b[0munemployment\u001b[0m\u001b[0;34m[\u001b[0m\u001b[0;36m1\u001b[0m\u001b[0;34m:\u001b[0m\u001b[0;34m]\u001b[0m\u001b[0;34m\u001b[0m\u001b[0;34m\u001b[0m\u001b[0m\n\u001b[1;32m      5\u001b[0m \u001b[0munemployment\u001b[0m\u001b[0;34m\u001b[0m\u001b[0;34m\u001b[0m\u001b[0m\n",
      "\u001b[0;32m~/opt/anaconda3/lib/python3.7/site-packages/pandas/io/parsers.py\u001b[0m in \u001b[0;36mparser_f\u001b[0;34m(filepath_or_buffer, sep, delimiter, header, names, index_col, usecols, squeeze, prefix, mangle_dupe_cols, dtype, engine, converters, true_values, false_values, skipinitialspace, skiprows, skipfooter, nrows, na_values, keep_default_na, na_filter, verbose, skip_blank_lines, parse_dates, infer_datetime_format, keep_date_col, date_parser, dayfirst, cache_dates, iterator, chunksize, compression, thousands, decimal, lineterminator, quotechar, quoting, doublequote, escapechar, comment, encoding, dialect, error_bad_lines, warn_bad_lines, delim_whitespace, low_memory, memory_map, float_precision)\u001b[0m\n\u001b[1;32m    683\u001b[0m         )\n\u001b[1;32m    684\u001b[0m \u001b[0;34m\u001b[0m\u001b[0m\n\u001b[0;32m--> 685\u001b[0;31m         \u001b[0;32mreturn\u001b[0m \u001b[0m_read\u001b[0m\u001b[0;34m(\u001b[0m\u001b[0mfilepath_or_buffer\u001b[0m\u001b[0;34m,\u001b[0m \u001b[0mkwds\u001b[0m\u001b[0;34m)\u001b[0m\u001b[0;34m\u001b[0m\u001b[0;34m\u001b[0m\u001b[0m\n\u001b[0m\u001b[1;32m    686\u001b[0m \u001b[0;34m\u001b[0m\u001b[0m\n\u001b[1;32m    687\u001b[0m     \u001b[0mparser_f\u001b[0m\u001b[0;34m.\u001b[0m\u001b[0m__name__\u001b[0m \u001b[0;34m=\u001b[0m \u001b[0mname\u001b[0m\u001b[0;34m\u001b[0m\u001b[0;34m\u001b[0m\u001b[0m\n",
      "\u001b[0;32m~/opt/anaconda3/lib/python3.7/site-packages/pandas/io/parsers.py\u001b[0m in \u001b[0;36m_read\u001b[0;34m(filepath_or_buffer, kwds)\u001b[0m\n\u001b[1;32m    455\u001b[0m \u001b[0;34m\u001b[0m\u001b[0m\n\u001b[1;32m    456\u001b[0m     \u001b[0;31m# Create the parser.\u001b[0m\u001b[0;34m\u001b[0m\u001b[0;34m\u001b[0m\u001b[0;34m\u001b[0m\u001b[0m\n\u001b[0;32m--> 457\u001b[0;31m     \u001b[0mparser\u001b[0m \u001b[0;34m=\u001b[0m \u001b[0mTextFileReader\u001b[0m\u001b[0;34m(\u001b[0m\u001b[0mfp_or_buf\u001b[0m\u001b[0;34m,\u001b[0m \u001b[0;34m**\u001b[0m\u001b[0mkwds\u001b[0m\u001b[0;34m)\u001b[0m\u001b[0;34m\u001b[0m\u001b[0;34m\u001b[0m\u001b[0m\n\u001b[0m\u001b[1;32m    458\u001b[0m \u001b[0;34m\u001b[0m\u001b[0m\n\u001b[1;32m    459\u001b[0m     \u001b[0;32mif\u001b[0m \u001b[0mchunksize\u001b[0m \u001b[0;32mor\u001b[0m \u001b[0miterator\u001b[0m\u001b[0;34m:\u001b[0m\u001b[0;34m\u001b[0m\u001b[0;34m\u001b[0m\u001b[0m\n",
      "\u001b[0;32m~/opt/anaconda3/lib/python3.7/site-packages/pandas/io/parsers.py\u001b[0m in \u001b[0;36m__init__\u001b[0;34m(self, f, engine, **kwds)\u001b[0m\n\u001b[1;32m    893\u001b[0m             \u001b[0mself\u001b[0m\u001b[0;34m.\u001b[0m\u001b[0moptions\u001b[0m\u001b[0;34m[\u001b[0m\u001b[0;34m\"has_index_names\"\u001b[0m\u001b[0;34m]\u001b[0m \u001b[0;34m=\u001b[0m \u001b[0mkwds\u001b[0m\u001b[0;34m[\u001b[0m\u001b[0;34m\"has_index_names\"\u001b[0m\u001b[0;34m]\u001b[0m\u001b[0;34m\u001b[0m\u001b[0;34m\u001b[0m\u001b[0m\n\u001b[1;32m    894\u001b[0m \u001b[0;34m\u001b[0m\u001b[0m\n\u001b[0;32m--> 895\u001b[0;31m         \u001b[0mself\u001b[0m\u001b[0;34m.\u001b[0m\u001b[0m_make_engine\u001b[0m\u001b[0;34m(\u001b[0m\u001b[0mself\u001b[0m\u001b[0;34m.\u001b[0m\u001b[0mengine\u001b[0m\u001b[0;34m)\u001b[0m\u001b[0;34m\u001b[0m\u001b[0;34m\u001b[0m\u001b[0m\n\u001b[0m\u001b[1;32m    896\u001b[0m \u001b[0;34m\u001b[0m\u001b[0m\n\u001b[1;32m    897\u001b[0m     \u001b[0;32mdef\u001b[0m \u001b[0mclose\u001b[0m\u001b[0;34m(\u001b[0m\u001b[0mself\u001b[0m\u001b[0;34m)\u001b[0m\u001b[0;34m:\u001b[0m\u001b[0;34m\u001b[0m\u001b[0;34m\u001b[0m\u001b[0m\n",
      "\u001b[0;32m~/opt/anaconda3/lib/python3.7/site-packages/pandas/io/parsers.py\u001b[0m in \u001b[0;36m_make_engine\u001b[0;34m(self, engine)\u001b[0m\n\u001b[1;32m   1133\u001b[0m     \u001b[0;32mdef\u001b[0m \u001b[0m_make_engine\u001b[0m\u001b[0;34m(\u001b[0m\u001b[0mself\u001b[0m\u001b[0;34m,\u001b[0m \u001b[0mengine\u001b[0m\u001b[0;34m=\u001b[0m\u001b[0;34m\"c\"\u001b[0m\u001b[0;34m)\u001b[0m\u001b[0;34m:\u001b[0m\u001b[0;34m\u001b[0m\u001b[0;34m\u001b[0m\u001b[0m\n\u001b[1;32m   1134\u001b[0m         \u001b[0;32mif\u001b[0m \u001b[0mengine\u001b[0m \u001b[0;34m==\u001b[0m \u001b[0;34m\"c\"\u001b[0m\u001b[0;34m:\u001b[0m\u001b[0;34m\u001b[0m\u001b[0;34m\u001b[0m\u001b[0m\n\u001b[0;32m-> 1135\u001b[0;31m             \u001b[0mself\u001b[0m\u001b[0;34m.\u001b[0m\u001b[0m_engine\u001b[0m \u001b[0;34m=\u001b[0m \u001b[0mCParserWrapper\u001b[0m\u001b[0;34m(\u001b[0m\u001b[0mself\u001b[0m\u001b[0;34m.\u001b[0m\u001b[0mf\u001b[0m\u001b[0;34m,\u001b[0m \u001b[0;34m**\u001b[0m\u001b[0mself\u001b[0m\u001b[0;34m.\u001b[0m\u001b[0moptions\u001b[0m\u001b[0;34m)\u001b[0m\u001b[0;34m\u001b[0m\u001b[0;34m\u001b[0m\u001b[0m\n\u001b[0m\u001b[1;32m   1136\u001b[0m         \u001b[0;32melse\u001b[0m\u001b[0;34m:\u001b[0m\u001b[0;34m\u001b[0m\u001b[0;34m\u001b[0m\u001b[0m\n\u001b[1;32m   1137\u001b[0m             \u001b[0;32mif\u001b[0m \u001b[0mengine\u001b[0m \u001b[0;34m==\u001b[0m \u001b[0;34m\"python\"\u001b[0m\u001b[0;34m:\u001b[0m\u001b[0;34m\u001b[0m\u001b[0;34m\u001b[0m\u001b[0m\n",
      "\u001b[0;32m~/opt/anaconda3/lib/python3.7/site-packages/pandas/io/parsers.py\u001b[0m in \u001b[0;36m__init__\u001b[0;34m(self, src, **kwds)\u001b[0m\n\u001b[1;32m   1915\u001b[0m         \u001b[0mkwds\u001b[0m\u001b[0;34m[\u001b[0m\u001b[0;34m\"usecols\"\u001b[0m\u001b[0;34m]\u001b[0m \u001b[0;34m=\u001b[0m \u001b[0mself\u001b[0m\u001b[0;34m.\u001b[0m\u001b[0musecols\u001b[0m\u001b[0;34m\u001b[0m\u001b[0;34m\u001b[0m\u001b[0m\n\u001b[1;32m   1916\u001b[0m \u001b[0;34m\u001b[0m\u001b[0m\n\u001b[0;32m-> 1917\u001b[0;31m         \u001b[0mself\u001b[0m\u001b[0;34m.\u001b[0m\u001b[0m_reader\u001b[0m \u001b[0;34m=\u001b[0m \u001b[0mparsers\u001b[0m\u001b[0;34m.\u001b[0m\u001b[0mTextReader\u001b[0m\u001b[0;34m(\u001b[0m\u001b[0msrc\u001b[0m\u001b[0;34m,\u001b[0m \u001b[0;34m**\u001b[0m\u001b[0mkwds\u001b[0m\u001b[0;34m)\u001b[0m\u001b[0;34m\u001b[0m\u001b[0;34m\u001b[0m\u001b[0m\n\u001b[0m\u001b[1;32m   1918\u001b[0m         \u001b[0mself\u001b[0m\u001b[0;34m.\u001b[0m\u001b[0munnamed_cols\u001b[0m \u001b[0;34m=\u001b[0m \u001b[0mself\u001b[0m\u001b[0;34m.\u001b[0m\u001b[0m_reader\u001b[0m\u001b[0;34m.\u001b[0m\u001b[0munnamed_cols\u001b[0m\u001b[0;34m\u001b[0m\u001b[0;34m\u001b[0m\u001b[0m\n\u001b[1;32m   1919\u001b[0m \u001b[0;34m\u001b[0m\u001b[0m\n",
      "\u001b[0;32mpandas/_libs/parsers.pyx\u001b[0m in \u001b[0;36mpandas._libs.parsers.TextReader.__cinit__\u001b[0;34m()\u001b[0m\n",
      "\u001b[0;32mpandas/_libs/parsers.pyx\u001b[0m in \u001b[0;36mpandas._libs.parsers.TextReader._setup_parser_source\u001b[0;34m()\u001b[0m\n",
      "\u001b[0;31mFileNotFoundError\u001b[0m: [Errno 2] File b'nc/NC_Drug_Poisoning.csv' does not exist: b'nc/NC_Drug_Poisoning.csv'"
     ]
    }
   ],
   "source": [
    "drug = pd.read_csv('NC_Drug_Poisoning.csv')\n",
    "gdp = pd.read_csv('NC_GDP.csv')\n",
    "unemployment = pd.read_csv('NC_Unemployment.csv')\n",
    "unemployment = unemployment[1:]\n",
    "unemployment\n"
   ]
  },
  {
   "cell_type": "code",
   "execution_count": null,
   "metadata": {},
   "outputs": [],
   "source": [
    "#cleaning up unemployment data\n",
    "unemployment = unemployment.drop([\"Civilian_labor_force_2010\",\"Employed_2010\",\"Unemployed_2010\", \"Civilian_labor_force_2011\",\"Employed_2011\",\"Unemployed_2011\", \"Civilian_labor_force_2012\",\"Employed_2012\",\"Unemployed_2012\", \"Civilian_labor_force_2013\",\"Employed_2013\",\"Unemployed_2013\",\n",
    "\"Civilian_labor_force_2014\",\"Employed_2014\",\"Unemployed_2014\",\n",
    "\"Civilian_labor_force_2015\",\"Employed_2015\",\"Unemployed_2015\",\n",
    "\"Civilian_labor_force_2016\",\"Employed_2016\",\"Unemployed_2016\",\n",
    "\"Civilian_labor_force_2017\",\"Employed_2017\",\"Unemployed_2017\",\n",
    "\"Civilian_labor_force_2018\",\"Employed_2018\",\"Unemployed_2018\",\"Med_HH_Income_Percent_of_State_Total_2018\"], axis = 1)\n",
    "\n",
    "unemployment = unemployment.rename(columns={\"Metro_2013\":\"Metro Code 2008\"})\n",
    "\n",
    "unemployment[\"Rural_urban_continuum_code_2013\"] = unemployment['Metro Code 2008']\n",
    "unemployment = unemployment.rename(columns={\"Rural_urban_continuum_code_2013\":\"Metro Code 2007\"})\n",
    "unemployment[\"Urban_influence_code_2013\"] = unemployment['Metro Code 2008']\n",
    "unemployment = unemployment.rename(columns={\"Urban_influence_code_2013\":\"Metro Code 2009\"})\n",
    "unemployment[\"Civilian_labor_force_2007\"] = unemployment['Metro Code 2008']\n",
    "unemployment = unemployment.rename(columns={\"Civilian_labor_force_2007\":\"Metro Code 2010\"})\n",
    "unemployment[\"Employed_2007\"] = unemployment['Metro Code 2008']\n",
    "unemployment = unemployment.rename(columns={\"Employed_2007\":\"Metro Code 2011\"})\n",
    "unemployment[\"Unemployed_2007\"] = unemployment['Metro Code 2008']\n",
    "unemployment = unemployment.rename(columns={\"Unemployed_2007\":\"Metro Code 2012\"})\n",
    "unemployment[\"Civilian_labor_force_2008\"] = unemployment['Metro Code 2008']\n",
    "unemployment = unemployment.rename(columns={\"Civilian_labor_force_2008\":\"Metro Code 2013\"})\n",
    "unemployment[\"Employed_2008\"] = unemployment['Metro Code 2008']\n",
    "unemployment = unemployment.rename(columns={\"Employed_2008\":\"Metro Code 2014\"})\n",
    "unemployment[\"Unemployed_2008\"] = unemployment['Metro Code 2008']\n",
    "unemployment = unemployment.rename(columns={\"Unemployed_2008\":\"Metro Code 2015\"})\n",
    "unemployment[\"Civilian_labor_force_2009\"] = unemployment['Metro Code 2008']\n",
    "unemployment = unemployment.rename(columns={\"Civilian_labor_force_2009\":\"Metro Code 2016\"})\n",
    "unemployment[\"Employed_2009\"] = unemployment['Metro Code 2008']\n",
    "unemployment = unemployment.rename(columns={\"Employed_2009\":\"Metro Code 2017\"})\n",
    "unemployment[\"Unemployed_2009\"] = unemployment['Metro Code 2008']\n",
    "unemployment = unemployment.rename(columns={\"Unemployed_2009\":\"Metro Code 2018\"})\n",
    "\n",
    "#unemployment = unemployment.insert(4, \"Metro Code 2008\", [unemployment.loc[:,'Metro Code 2007'].tolist()], allow_duplicates =True)\n",
    "\n",
    "unemployment = unemployment.transpose()\n",
    "\n",
    "unemployment.head()\n"
   ]
  },
  {
   "cell_type": "code",
   "execution_count": null,
   "metadata": {},
   "outputs": [],
   "source": [
    "years = unemployment[3:]\n",
    "rate=years[6:]\n",
    "rate = rate.sort_index(ascending=True)\n",
    "med_income = rate.iloc[0]\n",
    "rate = rate[7:-1]\n",
    "rate\n",
    "\n",
    "#transforming unemployment rate\n",
    "urate = []\n",
    "for i in range(11):\n",
    "    urate.append(rate.iloc[i].tolist())  \n",
    "urate\n",
    "\n",
    "flat_list = []\n",
    "for sublist in urate:\n",
    "    for item in sublist:\n",
    "        flat_list.append(item)\n",
    "flat_list\n",
    "\n",
    "#transforming median income, need to repeat each number 11 times\n",
    "#problem with this is the only median income was reported in 2013 --> for more accurate analysis, need more data\n",
    "print(med_income)\n",
    "\n",
    "income_list = []\n",
    "for i in range(11):\n",
    "    income_list.append(med_income.tolist())\n",
    "        \n",
    "flat_list2 = []\n",
    "for sublist in income_list:\n",
    "    for item in sublist:\n",
    "        flat_list2.append(item)\n",
    "\n",
    "\n",
    "        \n",
    "\n"
   ]
  },
  {
   "cell_type": "code",
   "execution_count": null,
   "metadata": {},
   "outputs": [],
   "source": [
    "gdp = gdp.set_index('DATE').transpose()\n",
    "gdp =gdp.reset_index()\n",
    "gdp = gdp.melt(id_vars=[\"index\"], \n",
    "        var_name=\"Year\", \n",
    "        value_name=\"GDP\")\n",
    "gdp.columns=[\n",
    "    'FIPS',\n",
    "    'Year',\n",
    "    'GDP'\n",
    "]\n",
    "gdp"
   ]
  },
  {
   "cell_type": "code",
   "execution_count": null,
   "metadata": {},
   "outputs": [],
   "source": [
    "gdp['FIPS'] = gdp['FIPS'].astype(int)\n",
    "gdp['Year'] = gdp['Year'].astype(int)\n",
    "# unemployment['FIPS'] = unemployment['FIPS'].astype(int) \n",
    "drug['FIPS'] = drug['FIPS'].astype(int)\n",
    "drug['Year'] = drug['Year'].astype(int)\n",
    "\n",
    "# merged1 = gdp.merge(unemployment, left_on='FIPS', right_on='FIPS')\n",
    "# merged2 = merged1.merge(pop, left_on='FIPS', right_on='FIPS')\n",
    "drug"
   ]
  },
  {
   "cell_type": "code",
   "execution_count": null,
   "metadata": {},
   "outputs": [],
   "source": [
    "new_drug = drug[drug['Year']>2006]\n",
    "new_drug.head()"
   ]
  },
  {
   "cell_type": "code",
   "execution_count": null,
   "metadata": {},
   "outputs": [],
   "source": [
    "new_df = pd.merge(gdp, new_drug,  how='right', left_on=['FIPS','Year'], right_on = ['FIPS','Year'])\n",
    "new_df = new_df.drop([\"Census Division\"], axis = 1)\n",
    "\n",
    "metro = []\n",
    "for i in range(1100):\n",
    "    if new_df['Urban/Rural Category'].iloc[i] == \"Noncore\":\n",
    "        metro.append(0)\n",
    "    else:\n",
    "        metro.append(1)\n",
    "\n",
    "new_df[\"Metro Code\"] = metro\n",
    "new_df = new_df.drop([\"Urban/Rural Category\"], axis = 1)\n",
    "new_df[\"Unemployment Rate\"] = flat_list\n",
    "new_df[\"Median Income\"] = flat_list2\n",
    "\n",
    "# remove commas from populations\n",
    "new_df['Population'] = new_df['Population'].str.replace(',', '').astype(int)\n",
    "\n",
    "new_df"
   ]
  },
  {
   "cell_type": "code",
   "execution_count": null,
   "metadata": {},
   "outputs": [],
   "source": [
    "import plotly\n",
    "import plotly.figure_factory as ff\n",
    "import geopandas\n",
    "import shapely\n",
    "\n",
    "def ncMap(dataset, values, title):\n",
    "    fips = list(set(dataset['FIPS'].tolist()))\n",
    "    fig = ff.create_choropleth(\n",
    "        fips=fips,\n",
    "        values=values,\n",
    "        scope=['North Carolina'],\n",
    "        show_state_data=True,\n",
    "        binning_endpoints = list(np.mgrid[min(values):max(values):10j]),\n",
    "        plot_bgcolor='rgb(229,229,229)',\n",
    "        paper_bgcolor='rgb(229,229,229)',\n",
    "        legend_title=title,\n",
    "        county_outline={'color': 'rgb(255,255,255)', 'width': 0.5},)\n",
    "    fig.layout.template = None\n",
    "    fig.show()"
   ]
  },
  {
   "cell_type": "code",
   "execution_count": null,
   "metadata": {},
   "outputs": [],
   "source": [
    "values = new_df.query('Year==2017')['Population'].astype(int).tolist()\n",
    "title = 'Population by County'\n",
    "ncMap(new_df, values, title)"
   ]
  },
  {
   "cell_type": "code",
   "execution_count": null,
   "metadata": {},
   "outputs": [],
   "source": [
    "values = new_df.query('Year==2017')['Model-based Death Rate'].astype(float).tolist()\n",
    "title = 'Model-based Death Rate by County'\n",
    "ncMap(new_df, values, title)"
   ]
  },
  {
   "cell_type": "code",
   "execution_count": null,
   "metadata": {},
   "outputs": [],
   "source": [
    "values = new_df.query('Year==2017')['GDP'].astype(int).tolist()\n",
    "title = 'GDP by county'\n",
    "ncMap(new_df, values, title)"
   ]
  },
  {
   "cell_type": "code",
   "execution_count": null,
   "metadata": {},
   "outputs": [],
   "source": [
    "values = new_df.query('Year==2017')['Unemployment Rate'].astype(float).tolist()\n",
    "title = 'Unemployment Rate by County'\n",
    "ncMap(new_df, values, title)"
   ]
  },
  {
   "cell_type": "code",
   "execution_count": null,
   "metadata": {},
   "outputs": [],
   "source": [
    "import seaborn as sns\n",
    "import matplotlib.pyplot as plt"
   ]
  },
  {
   "cell_type": "code",
   "execution_count": null,
   "metadata": {},
   "outputs": [],
   "source": [
    "ax = sns.regplot(x = \"GDP\", y=\"Model-based Death Rate\", data=new_df)\n",
    "plt.title(\"County GDP by Model-based Death Rate (2007-2017)\")\n",
    "correlation_matrix = np.corrcoef(new_df[\"GDP\"], new_df[\"Model-based Death Rate\"])\n",
    "correlation_xy = correlation_matrix[0,1]\n",
    "r_squared = correlation_xy**2\n",
    "print(\"r_squared:\",r_squared)"
   ]
  },
  {
   "cell_type": "code",
   "execution_count": null,
   "metadata": {},
   "outputs": [],
   "source": [
    "ax = sns.regplot(x = \"GDP\", y=\"Model-based Death Rate\", data=new_df.query('Year==2008'))\n",
    "plt.title(\"County GDP by Model-based Death Rate (2008)\")"
   ]
  },
  {
   "cell_type": "code",
   "execution_count": null,
   "metadata": {},
   "outputs": [],
   "source": [
    "ax = sns.regplot(x = \"GDP\", y=\"Model-based Death Rate\", data=new_df.query('Year==2014'))\n",
    "plt.title(\"County GDP by Model-based Death Rate (2014)\")"
   ]
  },
  {
   "cell_type": "code",
   "execution_count": null,
   "metadata": {},
   "outputs": [],
   "source": [
    "ax = sns.regplot(x = \"Unemployment Rate\", y=\"Model-based Death Rate\", data=new_df)\n",
    "plt.title(\"County Unemployment Rate by Model-based Death Rate (2007-2017)\")\n",
    "correlation_matrix = np.corrcoef(new_df[\"Unemployment Rate\"], new_df[\"Model-based Death Rate\"])\n",
    "correlation_xy = correlation_matrix[0,1]\n",
    "r_squared = correlation_xy**2\n",
    "print(\"r_squared:\",r_squared)"
   ]
  },
  {
   "cell_type": "code",
   "execution_count": null,
   "metadata": {},
   "outputs": [],
   "source": [
    "ax = sns.regplot(x = \"Unemployment Rate\", y=\"Model-based Death Rate\", data=new_df.query('Year==2008'))\n",
    "plt.title(\"County Unemployment Rate by Model-based Death Rate (2008)\")"
   ]
  },
  {
   "cell_type": "code",
   "execution_count": null,
   "metadata": {},
   "outputs": [],
   "source": [
    "ax = sns.regplot(x = \"Unemployment Rate\", y=\"Model-based Death Rate\", data=new_df.query('Year==2016'))\n",
    "plt.title(\"County Unemployment Rate by Model-based Death Rate (2016)\")"
   ]
  },
  {
   "cell_type": "code",
   "execution_count": null,
   "metadata": {},
   "outputs": [],
   "source": [
    "ax = sns.regplot(x = \"Unemployment Rate\", y=\"Model-based Death Rate\", data=new_df.query('`Metro Code`==1').query('Year==2016'))\n",
    "plt.title(\"County Unemployment Rate by Model-based Death Rate (2016, Metro Code 1)\")"
   ]
  },
  {
   "cell_type": "code",
   "execution_count": null,
   "metadata": {},
   "outputs": [],
   "source": [
    "ax = sns.regplot(x = \"Unemployment Rate\", y=\"Model-based Death Rate\", data=new_df.query('`Metro Code`==0').query('Year==2016'))\n",
    "plt.title(\"County Unemployment Rate by Model-based Death Rate (2016, Metro Code 0)\")"
   ]
  },
  {
   "cell_type": "code",
   "execution_count": null,
   "metadata": {},
   "outputs": [],
   "source": [
    "correlation_matrix = np.corrcoef(np.log(new_df[\"Unemployment Rate\"]), new_df[\"Model-based Death Rate\"])\n",
    "correlation_xy = correlation_matrix[0,1]\n",
    "r_squared = correlation_xy**2\n",
    "print(\"r_squared:\",r_squared)"
   ]
  },
  {
   "cell_type": "code",
   "execution_count": null,
   "metadata": {},
   "outputs": [],
   "source": [
    "correlation_matrix = np.corrcoef(new_df[\"Unemployment Rate\"], np.log(new_df[\"Model-based Death Rate\"]))\n",
    "correlation_xy = correlation_matrix[0,1]\n",
    "r_squared = correlation_xy**2\n",
    "print(\"r_squared:\",r_squared)"
   ]
  },
  {
   "cell_type": "code",
   "execution_count": null,
   "metadata": {},
   "outputs": [],
   "source": [
    "correlation_matrix = np.corrcoef(np.log(new_df[\"Unemployment Rate\"]), np.log(new_df[\"Model-based Death Rate\"]))\n",
    "correlation_xy = correlation_matrix[0,1]\n",
    "r_squared = correlation_xy**2\n",
    "print(\"r_squared:\",r_squared)"
   ]
  },
  {
   "cell_type": "code",
   "execution_count": null,
   "metadata": {},
   "outputs": [],
   "source": [
    "correlation_matrix = np.corrcoef(np.log(new_df[\"GDP\"]), new_df[\"Model-based Death Rate\"])\n",
    "correlation_xy = correlation_matrix[0,1]\n",
    "r_squared = correlation_xy**2\n",
    "print(\"r_squared:\",r_squared)"
   ]
  },
  {
   "cell_type": "code",
   "execution_count": null,
   "metadata": {},
   "outputs": [],
   "source": [
    "correlation_matrix = np.corrcoef(new_df[\"GDP\"], np.log(new_df[\"Model-based Death Rate\"]))\n",
    "correlation_xy = correlation_matrix[0,1]\n",
    "r_squared = correlation_xy**2\n",
    "print(\"r_squared:\",r_squared)"
   ]
  },
  {
   "cell_type": "code",
   "execution_count": null,
   "metadata": {},
   "outputs": [],
   "source": [
    "correlation_matrix = np.corrcoef(new_df[\"GDP\"], np.log(new_df[\"Model-based Death Rate\"]))\n",
    "correlation_xy = correlation_matrix[0,1]\n",
    "r_squared = correlation_xy**2\n",
    "print(\"r_squared:\",r_squared)"
   ]
  },
  {
   "cell_type": "code",
   "execution_count": null,
   "metadata": {},
   "outputs": [],
   "source": [
    "correlation_matrix = np.corrcoef(new_df.query(\"Year==2008\")[\"GDP\"], np.log(new_df.query(\"Year==2008\")[\"Model-based Death Rate\"]))\n",
    "correlation_xy = correlation_matrix[0,1]\n",
    "r_squared = correlation_xy**2\n",
    "print(\"r_squared:\",r_squared)"
   ]
  },
  {
   "cell_type": "code",
   "execution_count": null,
   "metadata": {},
   "outputs": [],
   "source": [
    "correlation_matrix = np.corrcoef(np.log(new_df[\"GDP\"]), np.log(new_df[\"Model-based Death Rate\"]))\n",
    "correlation_xy = correlation_matrix[0,1]\n",
    "r_squared = correlation_xy**2\n",
    "print(\"r_squared:\",r_squared)"
   ]
  },
  {
   "cell_type": "code",
   "execution_count": null,
   "metadata": {},
   "outputs": [],
   "source": []
  }
 ],
 "metadata": {
  "kernelspec": {
   "display_name": "Python 3",
   "language": "python",
   "name": "python3"
  },
  "language_info": {
   "codemirror_mode": {
    "name": "ipython",
    "version": 3
   },
   "file_extension": ".py",
   "mimetype": "text/x-python",
   "name": "python",
   "nbconvert_exporter": "python",
   "pygments_lexer": "ipython3",
   "version": "3.7.4"
  }
 },
 "nbformat": 4,
 "nbformat_minor": 4
}
